{
 "cells": [
  {
   "cell_type": "markdown",
   "id": "56ab1fb9-dcea-44ac-a903-a5c624886d0d",
   "metadata": {},
   "source": [
    "# Data Science Tools and Ecosystem"
   ]
  },
  {
   "cell_type": "markdown",
   "id": "9666e001-26da-4efb-ab4e-01ce6f89e9f6",
   "metadata": {},
   "source": [
    "In this notebook, Data Science Tools and Ecosystem are summarized."
   ]
  },
  {
   "cell_type": "markdown",
   "id": "510d17d9-3bea-46d1-8940-08faee7ccd0a",
   "metadata": {},
   "source": [
    "__Objectives:__\n",
    "* List popular languages for Data Science\n",
    "* List commonly used libraries by Data Scientist\n",
    "* List Data Science Tools\n",
    "* Few examples of evaluating arithmetic expressions in Python"
   ]
  },
  {
   "cell_type": "markdown",
   "id": "204527dc-a76c-4697-b82f-482b7179002e",
   "metadata": {},
   "source": [
    "Some of the popular languages that Data Scientists use are:\n",
    "1. Python\n",
    "2. R\n",
    "3. Julia\n"
   ]
  },
  {
   "cell_type": "markdown",
   "id": "f0043a93-c7db-4ef0-926a-23910cb38500",
   "metadata": {},
   "source": [
    "Some of the commonly used libraries used by Data Scientists include:\n",
    "1. Pandas: For data manipulation and analysis, providing data structures and operations for manipulating numerical tables and time series.\n",
    "2. NumPy: For numerical computing with support for large, multi-dimensional arrays and matrices, along with a collection of mathematical functions to operate on these arrays.\n",
    "3. Matplotlib: For creating static, animated, and interactive visualizations in Python.\n",
    "4. SciPy: For scientific and technical computing, offering modules for optimization, integration, interpolation, eigenvalue problems, algebraic equations, and other tasks."
   ]
  },
  {
   "cell_type": "markdown",
   "id": "20affbef-02aa-4abe-8189-c38fe0e6be4a",
   "metadata": {},
   "source": [
    "| Data Science Tools          |\n",
    "|-----------------------------|\n",
    "| Jupyter Notebook            |\n",
    "| RStudio                     |\n",
    "| IBM Watson Studio           |"
   ]
  },
  {
   "cell_type": "markdown",
   "id": "247633b5-86e4-485f-8e4b-3f2885e6a0dd",
   "metadata": {},
   "source": [
    "### Below are a few examples of evaluating arithmetic expressions in Python"
   ]
  },
  {
   "cell_type": "code",
   "execution_count": 2,
   "id": "4ce39082-81aa-46b8-ac3f-8386fb5ecd84",
   "metadata": {},
   "outputs": [
    {
     "data": {
      "text/plain": [
       "17"
      ]
     },
     "execution_count": 2,
     "metadata": {},
     "output_type": "execute_result"
    }
   ],
   "source": [
    "(3*4)+5\n",
    "#This a simple arithmetic expression to mutiply then add integers"
   ]
  },
  {
   "cell_type": "code",
   "execution_count": 4,
   "id": "dcd8aab2-2cb6-4278-9e7d-c45a80010db5",
   "metadata": {},
   "outputs": [
    {
     "data": {
      "text/plain": [
       "3.3333333333333335"
      ]
     },
     "execution_count": 4,
     "metadata": {},
     "output_type": "execute_result"
    }
   ],
   "source": [
    "200 / 60\n",
    "# This will convert 200 minutes to hours by diving by 60"
   ]
  },
  {
   "cell_type": "code",
   "execution_count": null,
   "id": "0578db02-9f9f-4eb2-9803-a967aa9cbf5d",
   "metadata": {},
   "outputs": [],
   "source": [
    "## Author\n",
    "Nagy Fanni"
   ]
  }
 ],
 "metadata": {
  "kernelspec": {
   "display_name": "Python 3 (ipykernel)",
   "language": "python",
   "name": "python3"
  },
  "language_info": {
   "codemirror_mode": {
    "name": "ipython",
    "version": 3
   },
   "file_extension": ".py",
   "mimetype": "text/x-python",
   "name": "python",
   "nbconvert_exporter": "python",
   "pygments_lexer": "ipython3",
   "version": "3.11.7"
  }
 },
 "nbformat": 4,
 "nbformat_minor": 5
}
